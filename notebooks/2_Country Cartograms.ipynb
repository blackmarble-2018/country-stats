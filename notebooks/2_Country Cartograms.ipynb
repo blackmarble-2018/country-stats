{
 "cells": [
  {
   "cell_type": "markdown",
   "metadata": {},
   "source": [
    "# Country Lights and People Cartograms (work in progress)"
   ]
  },
  {
   "cell_type": "markdown",
   "metadata": {},
   "source": [
    "Download cartgram_pandas library"
   ]
  },
  {
   "cell_type": "markdown",
   "metadata": {},
   "source": [
    "https://github.com/mthh/cartogram_geopandas"
   ]
  },
  {
   "cell_type": "code",
   "execution_count": 11,
   "metadata": {
    "collapsed": true
   },
   "outputs": [],
   "source": [
    "import geopandas as gpd\n",
    "import matplotlib.pyplot as plt\n",
    "from cartogram_geopandas import make_cartogram\n",
    "from tqdm import tqdm\n",
    "import glob\n",
    "import moviepy.editor as mpy\n",
    "import os\n",
    "%matplotlib inline"
   ]
  },
  {
   "cell_type": "markdown",
   "metadata": {},
   "source": [
    "Read in countries with population file."
   ]
  },
  {
   "cell_type": "code",
   "execution_count": 12,
   "metadata": {
    "collapsed": true
   },
   "outputs": [],
   "source": [
    "geodf = gpd.read_file('countries_with_population.geojson')"
   ]
  },
  {
   "cell_type": "code",
   "execution_count": 13,
   "metadata": {},
   "outputs": [
    {
     "data": {
      "text/html": [
       "<div>\n",
       "<style>\n",
       "    .dataframe thead tr:only-child th {\n",
       "        text-align: right;\n",
       "    }\n",
       "\n",
       "    .dataframe thead th {\n",
       "        text-align: left;\n",
       "    }\n",
       "\n",
       "    .dataframe tbody tr th {\n",
       "        vertical-align: top;\n",
       "    }\n",
       "</style>\n",
       "<table border=\"1\" class=\"dataframe\">\n",
       "  <thead>\n",
       "    <tr style=\"text-align: right;\">\n",
       "      <th></th>\n",
       "      <th>fid</th>\n",
       "      <th>scalerank</th>\n",
       "      <th>featurecla</th>\n",
       "      <th>LABELRANK</th>\n",
       "      <th>SOVEREIGNT</th>\n",
       "      <th>SOV_A3</th>\n",
       "      <th>ADM0_DIF</th>\n",
       "      <th>LEVEL</th>\n",
       "      <th>TYPE</th>\n",
       "      <th>ADMIN</th>\n",
       "      <th>...</th>\n",
       "      <th>MIN_ZOOM</th>\n",
       "      <th>MIN_LABEL</th>\n",
       "      <th>MAX_LABEL</th>\n",
       "      <th>sum</th>\n",
       "      <th>GPW</th>\n",
       "      <th>BM_sum</th>\n",
       "      <th>BM</th>\n",
       "      <th>area</th>\n",
       "      <th>perimeter</th>\n",
       "      <th>geometry</th>\n",
       "    </tr>\n",
       "  </thead>\n",
       "  <tbody>\n",
       "    <tr>\n",
       "      <th>0</th>\n",
       "      <td>1</td>\n",
       "      <td>1</td>\n",
       "      <td>Admin-0 country</td>\n",
       "      <td>3.0</td>\n",
       "      <td>Afghanistan</td>\n",
       "      <td>AFG</td>\n",
       "      <td>0.0</td>\n",
       "      <td>2.0</td>\n",
       "      <td>Sovereign country</td>\n",
       "      <td>Afghanistan</td>\n",
       "      <td>...</td>\n",
       "      <td>0.0</td>\n",
       "      <td>3.0</td>\n",
       "      <td>7.0</td>\n",
       "      <td>2.754120e+07</td>\n",
       "      <td>27541201</td>\n",
       "      <td>2014.200038</td>\n",
       "      <td>2014</td>\n",
       "      <td>63.593500</td>\n",
       "      <td>46.043309</td>\n",
       "      <td>(POLYGON ((61.21081709172574 35.65007233330923...</td>\n",
       "    </tr>\n",
       "    <tr>\n",
       "      <th>1</th>\n",
       "      <td>2</td>\n",
       "      <td>1</td>\n",
       "      <td>Admin-0 country</td>\n",
       "      <td>3.0</td>\n",
       "      <td>Angola</td>\n",
       "      <td>AGO</td>\n",
       "      <td>0.0</td>\n",
       "      <td>2.0</td>\n",
       "      <td>Sovereign country</td>\n",
       "      <td>Angola</td>\n",
       "      <td>...</td>\n",
       "      <td>0.0</td>\n",
       "      <td>3.0</td>\n",
       "      <td>7.0</td>\n",
       "      <td>2.552442e+07</td>\n",
       "      <td>25524423</td>\n",
       "      <td>3829.611838</td>\n",
       "      <td>3830</td>\n",
       "      <td>103.599439</td>\n",
       "      <td>54.986811</td>\n",
       "      <td>(POLYGON ((23.90415368011818 -11.7222815894063...</td>\n",
       "    </tr>\n",
       "    <tr>\n",
       "      <th>2</th>\n",
       "      <td>3</td>\n",
       "      <td>1</td>\n",
       "      <td>Admin-0 country</td>\n",
       "      <td>6.0</td>\n",
       "      <td>Albania</td>\n",
       "      <td>ALB</td>\n",
       "      <td>0.0</td>\n",
       "      <td>2.0</td>\n",
       "      <td>Sovereign country</td>\n",
       "      <td>Albania</td>\n",
       "      <td>...</td>\n",
       "      <td>0.0</td>\n",
       "      <td>5.0</td>\n",
       "      <td>10.0</td>\n",
       "      <td>2.766172e+06</td>\n",
       "      <td>2766172</td>\n",
       "      <td>1030.054924</td>\n",
       "      <td>1030</td>\n",
       "      <td>3.185163</td>\n",
       "      <td>8.146598</td>\n",
       "      <td>(POLYGON ((21.0200403174764 40.84272695572588,...</td>\n",
       "    </tr>\n",
       "    <tr>\n",
       "      <th>3</th>\n",
       "      <td>4</td>\n",
       "      <td>1</td>\n",
       "      <td>Admin-0 country</td>\n",
       "      <td>4.0</td>\n",
       "      <td>United Arab Emirates</td>\n",
       "      <td>ARE</td>\n",
       "      <td>0.0</td>\n",
       "      <td>2.0</td>\n",
       "      <td>Sovereign country</td>\n",
       "      <td>United Arab Emirates</td>\n",
       "      <td>...</td>\n",
       "      <td>0.0</td>\n",
       "      <td>4.0</td>\n",
       "      <td>9.0</td>\n",
       "      <td>6.786466e+06</td>\n",
       "      <td>6786466</td>\n",
       "      <td>14241.623780</td>\n",
       "      <td>14242</td>\n",
       "      <td>7.095047</td>\n",
       "      <td>14.574017</td>\n",
       "      <td>(POLYGON ((51.57951867046327 24.24549713795111...</td>\n",
       "    </tr>\n",
       "    <tr>\n",
       "      <th>4</th>\n",
       "      <td>5</td>\n",
       "      <td>1</td>\n",
       "      <td>Admin-0 country</td>\n",
       "      <td>2.0</td>\n",
       "      <td>Argentina</td>\n",
       "      <td>ARG</td>\n",
       "      <td>0.0</td>\n",
       "      <td>2.0</td>\n",
       "      <td>Sovereign country</td>\n",
       "      <td>Argentina</td>\n",
       "      <td>...</td>\n",
       "      <td>0.0</td>\n",
       "      <td>2.0</td>\n",
       "      <td>7.0</td>\n",
       "      <td>4.217470e+07</td>\n",
       "      <td>42174700</td>\n",
       "      <td>36244.898752</td>\n",
       "      <td>36245</td>\n",
       "      <td>278.923392</td>\n",
       "      <td>113.624468</td>\n",
       "      <td>(POLYGON ((-66.95992 -54.89681, -67.56244 -54....</td>\n",
       "    </tr>\n",
       "  </tbody>\n",
       "</table>\n",
       "<p>5 rows × 79 columns</p>\n",
       "</div>"
      ],
      "text/plain": [
       "  fid  scalerank       featurecla  LABELRANK            SOVEREIGNT SOV_A3  \\\n",
       "0   1          1  Admin-0 country        3.0           Afghanistan    AFG   \n",
       "1   2          1  Admin-0 country        3.0                Angola    AGO   \n",
       "2   3          1  Admin-0 country        6.0               Albania    ALB   \n",
       "3   4          1  Admin-0 country        4.0  United Arab Emirates    ARE   \n",
       "4   5          1  Admin-0 country        2.0             Argentina    ARG   \n",
       "\n",
       "   ADM0_DIF  LEVEL               TYPE                 ADMIN  \\\n",
       "0       0.0    2.0  Sovereign country           Afghanistan   \n",
       "1       0.0    2.0  Sovereign country                Angola   \n",
       "2       0.0    2.0  Sovereign country               Albania   \n",
       "3       0.0    2.0  Sovereign country  United Arab Emirates   \n",
       "4       0.0    2.0  Sovereign country             Argentina   \n",
       "\n",
       "                         ...                         MIN_ZOOM  MIN_LABEL  \\\n",
       "0                        ...                              0.0        3.0   \n",
       "1                        ...                              0.0        3.0   \n",
       "2                        ...                              0.0        5.0   \n",
       "3                        ...                              0.0        4.0   \n",
       "4                        ...                              0.0        2.0   \n",
       "\n",
       "  MAX_LABEL           sum       GPW        BM_sum     BM        area  \\\n",
       "0       7.0  2.754120e+07  27541201   2014.200038   2014   63.593500   \n",
       "1       7.0  2.552442e+07  25524423   3829.611838   3830  103.599439   \n",
       "2      10.0  2.766172e+06   2766172   1030.054924   1030    3.185163   \n",
       "3       9.0  6.786466e+06   6786466  14241.623780  14242    7.095047   \n",
       "4       7.0  4.217470e+07  42174700  36244.898752  36245  278.923392   \n",
       "\n",
       "    perimeter                                           geometry  \n",
       "0   46.043309  (POLYGON ((61.21081709172574 35.65007233330923...  \n",
       "1   54.986811  (POLYGON ((23.90415368011818 -11.7222815894063...  \n",
       "2    8.146598  (POLYGON ((21.0200403174764 40.84272695572588,...  \n",
       "3   14.574017  (POLYGON ((51.57951867046327 24.24549713795111...  \n",
       "4  113.624468  (POLYGON ((-66.95992 -54.89681, -67.56244 -54....  \n",
       "\n",
       "[5 rows x 79 columns]"
      ]
     },
     "execution_count": 13,
     "metadata": {},
     "output_type": "execute_result"
    }
   ],
   "source": [
    "geodf.head()"
   ]
  },
  {
   "cell_type": "markdown",
   "metadata": {},
   "source": [
    "View the places with highest lights per capita ratio."
   ]
  },
  {
   "cell_type": "code",
   "execution_count": 14,
   "metadata": {},
   "outputs": [
    {
     "data": {
      "text/plain": [
       "(175, 79)"
      ]
     },
     "execution_count": 14,
     "metadata": {},
     "output_type": "execute_result"
    }
   ],
   "source": [
    "geodf.shape"
   ]
  },
  {
   "cell_type": "markdown",
   "metadata": {},
   "source": [
    "Replace na values with zeros."
   ]
  },
  {
   "cell_type": "code",
   "execution_count": 15,
   "metadata": {
    "collapsed": true
   },
   "outputs": [],
   "source": [
    "geodf.fillna(0.000000, inplace=True)"
   ]
  },
  {
   "cell_type": "markdown",
   "metadata": {},
   "source": [
    "Make cartograms."
   ]
  },
  {
   "cell_type": "markdown",
   "metadata": {},
   "source": [
    "Set number of max iterations for cartogram transformation algorithm."
   ]
  },
  {
   "cell_type": "code",
   "execution_count": 16,
   "metadata": {
    "collapsed": true
   },
   "outputs": [],
   "source": [
    "max_iterations = 50"
   ]
  },
  {
   "cell_type": "code",
   "execution_count": 17,
   "metadata": {
    "collapsed": true
   },
   "outputs": [],
   "source": [
    "frames_output = \"output/cartogram_frames/\""
   ]
  },
  {
   "cell_type": "code",
   "execution_count": 18,
   "metadata": {
    "collapsed": true
   },
   "outputs": [],
   "source": [
    "# Get our current working directory\n",
    "current_dir = os.getcwd()\n",
    "\n",
    "# Create an output folder to save our images\n",
    "if not os.path.exists(os.path.join(current_dir,frames_output)):\n",
    "    os.makedirs(os.path.join(current_dir,frames_output))\n",
    "\n",
    "# Save output folder location\n",
    "output_dir = os.path.join(current_dir,frames_output)"
   ]
  },
  {
   "cell_type": "code",
   "execution_count": 19,
   "metadata": {
    "collapsed": true
   },
   "outputs": [],
   "source": [
    "# keep track of count for file naming\n",
    "count = 0"
   ]
  },
  {
   "cell_type": "code",
   "execution_count": 20,
   "metadata": {},
   "outputs": [
    {
     "name": "stderr",
     "output_type": "stream",
     "text": [
      "100%|██████████| 50/50 [02:13<00:00,  4.58s/it]\n"
     ]
    }
   ],
   "source": [
    "# part 1: normal to transformed (people)\n",
    "for i in tqdm(range(1, max_iterations+1)):\n",
    "\n",
    "    transformed_geodf = make_cartogram(geodf, \"sum\", i, inplace=False)\n",
    "    f, ax = plt.subplots(1, figsize=(20,10))\n",
    "    transformed_geodf.plot(ax=ax, linewidth=0, column=\"sum\", cmap=\"Reds\", scheme='fisher_jenks')\n",
    "    ax.set_axis_off()\n",
    "    plt.axis('equal')\n",
    "\n",
    "    # Define the filepath\n",
    "    img_filename = str(count).zfill(4)\n",
    "    filepath = os.path.join(output_dir, img_filename) \n",
    "    f.savefig(filepath + '.png', bbox_inches='tight')\n",
    "    plt.close()\n",
    "    count +=1"
   ]
  },
  {
   "cell_type": "code",
   "execution_count": 21,
   "metadata": {},
   "outputs": [
    {
     "name": "stderr",
     "output_type": "stream",
     "text": [
      "100%|██████████| 50/50 [02:20<00:00,  1.24it/s]\n"
     ]
    }
   ],
   "source": [
    "# part 2: transformed back to normal (people)\n",
    "for i in tqdm(range(max_iterations, 0, -1)):\n",
    "\n",
    "    transformed_geodf = make_cartogram(geodf, \"sum\", i, inplace=False)\n",
    "    f, ax = plt.subplots(1, figsize=(20,10))\n",
    "    transformed_geodf.plot(ax=ax, linewidth=0, column=\"sum\", cmap=\"Reds\", scheme='fisher_jenks')\n",
    "    ax.set_axis_off()\n",
    "    plt.axis('equal')\n",
    "\n",
    "    # Define the filepath\n",
    "    img_filename = str(count).zfill(4)\n",
    "    filepath = os.path.join(output_dir, img_filename) \n",
    "    f.savefig(filepath + '.png', bbox_inches='tight')\n",
    "    plt.close()\n",
    "    count +=1"
   ]
  },
  {
   "cell_type": "code",
   "execution_count": 22,
   "metadata": {},
   "outputs": [
    {
     "name": "stderr",
     "output_type": "stream",
     "text": [
      "100%|██████████| 50/50 [02:18<00:00,  4.73s/it]\n"
     ]
    }
   ],
   "source": [
    "# part 3: normal to transformed (lights)\n",
    "for i in tqdm(range(1, max_iterations+1)):\n",
    "\n",
    "    transformed_geodf = make_cartogram(geodf, \"BM_sum\", i, inplace=False)\n",
    "    f, ax = plt.subplots(1, figsize=(20,10))\n",
    "    transformed_geodf.plot(ax=ax, linewidth=0, column=\"BM_sum\", cmap=\"Blues\", scheme='fisher_jenks')\n",
    "    ax.set_axis_off()\n",
    "    plt.axis('equal')\n",
    "\n",
    "    # Define the filepath\n",
    "    img_filename = str(count).zfill(4)\n",
    "    filepath = os.path.join(output_dir, img_filename) \n",
    "    f.savefig(filepath + '.png', bbox_inches='tight')\n",
    "    plt.close()\n",
    "    count +=1"
   ]
  },
  {
   "cell_type": "code",
   "execution_count": 23,
   "metadata": {},
   "outputs": [
    {
     "name": "stderr",
     "output_type": "stream",
     "text": [
      "100%|██████████| 50/50 [02:17<00:00,  1.12it/s]\n"
     ]
    }
   ],
   "source": [
    "# part 4: transformed back to normal (lights)\n",
    "for i in tqdm(range(max_iterations, 0, -1)):\n",
    "\n",
    "    transformed_geodf = make_cartogram(geodf, \"BM_sum\", i, inplace=False)\n",
    "    f, ax = plt.subplots(1, figsize=(20,10))\n",
    "    transformed_geodf.plot(ax=ax, linewidth=0, column=\"BM_sum\", cmap=\"Blues\", scheme='fisher_jenks')\n",
    "    ax.set_axis_off()\n",
    "    plt.axis('equal')\n",
    "\n",
    "    # Define the filepath\n",
    "    img_filename = str(count).zfill(4)\n",
    "    filepath = os.path.join(output_dir, img_filename) \n",
    "    f.savefig(filepath + '.png', bbox_inches='tight')\n",
    "    plt.close()\n",
    "    count +=1"
   ]
  },
  {
   "cell_type": "markdown",
   "metadata": {},
   "source": [
    "# Stitch these images together to make a GIF"
   ]
  },
  {
   "cell_type": "code",
   "execution_count": 24,
   "metadata": {
    "collapsed": true
   },
   "outputs": [],
   "source": [
    "# Install moviepy\n",
    "# !conda install -c conda-forge moviepy --yes"
   ]
  },
  {
   "cell_type": "code",
   "execution_count": 25,
   "metadata": {
    "collapsed": true
   },
   "outputs": [],
   "source": [
    "import moviepy.editor as mpy\n",
    "import glob"
   ]
  },
  {
   "cell_type": "code",
   "execution_count": 26,
   "metadata": {
    "collapsed": true
   },
   "outputs": [],
   "source": [
    "gif_name = \"my_gif\"\n",
    "fps = 15"
   ]
  },
  {
   "cell_type": "code",
   "execution_count": 27,
   "metadata": {
    "collapsed": true
   },
   "outputs": [],
   "source": [
    "file_list = glob.glob(output_dir + '/*.png')"
   ]
  },
  {
   "cell_type": "code",
   "execution_count": 28,
   "metadata": {
    "collapsed": true
   },
   "outputs": [],
   "source": [
    "clip = mpy.ImageSequenceClip(file_list, fps=fps)"
   ]
  },
  {
   "cell_type": "code",
   "execution_count": 31,
   "metadata": {},
   "outputs": [
    {
     "name": "stdout",
     "output_type": "stream",
     "text": [
      "\n",
      "[MoviePy] Building file /Users/will/Dropbox/Documents/School/Grad School/Columbia/Courses/2018 Spring/Venice/cartograms/output/cartogram_gif/my_gif.gif with imageio\n"
     ]
    },
    {
     "name": "stderr",
     "output_type": "stream",
     "text": [
      "100%|██████████| 200/200 [00:22<00:00,  9.79it/s]\n"
     ]
    }
   ],
   "source": [
    "# Create an output folder to save the gif\n",
    "gif_output = frames_output = \"output/cartogram_gif/\"\n",
    "if not os.path.exists(os.path.join(current_dir,gif_output)):\n",
    "    os.makedirs(os.path.join(current_dir,gif_output))\n",
    "\n",
    "# Save output folder location\n",
    "gif_output_dir = os.path.join(current_dir,gif_output)\n",
    "\n",
    "# Write gif\n",
    "clip.write_gif(gif_output_dir + '{}.gif'.format(gif_name), fps=fps)"
   ]
  },
  {
   "cell_type": "code",
   "execution_count": 33,
   "metadata": {},
   "outputs": [
    {
     "data": {
      "text/html": [
       "<img src=\"output/cartogram_gif/gif2.gif\">"
      ],
      "text/plain": [
       "<IPython.core.display.HTML object>"
      ]
     },
     "execution_count": 33,
     "metadata": {},
     "output_type": "execute_result"
    }
   ],
   "source": [
    "from IPython.display import HTML\n",
    "HTML('<img src=\"output/cartogram_gif/gif2.gif\">')"
   ]
  }
 ],
 "metadata": {
  "kernelspec": {
   "display_name": "Python 2",
   "language": "python",
   "name": "python2"
  }
 },
 "nbformat": 4,
 "nbformat_minor": 2
}
